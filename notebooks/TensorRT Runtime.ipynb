{
 "cells": [
  {
   "cell_type": "markdown",
   "metadata": {},
   "source": [
    "# TensorRT Runtime\n",
    "\n",
    "This example walks through the basic usecase of:\n",
    "  1. initialization the infer-runtime\n",
    "  2. loading a model\n",
    "  3. allocating resources\n",
    "  4. inspecting the input/output bindings of the model\n",
    "  5. evaluating the model using async futures\n",
    "  6. testing for correctness"
   ]
  },
  {
   "cell_type": "code",
   "execution_count": 1,
   "metadata": {},
   "outputs": [],
   "source": [
    "import os\n",
    "import time\n",
    "import numpy as np\n",
    "import wurlitzer\n",
    "\n",
    "import infer\n",
    "import infer_test_utils as utils\n",
    "\n",
    "# this allows us to capture stdout and stderr from the backend c++ infer-runtime\n",
    "display_output = wurlitzer.sys_pipes"
   ]
  },
  {
   "cell_type": "code",
   "execution_count": 2,
   "metadata": {},
   "outputs": [
    {
     "name": "stdout",
     "output_type": "stream",
     "text": [
      "&&&& RUNNING TensorRT.trtexec # trtexec --onnx=/work/models/onnx/mnist-v1.3/model.onnx --saveEngine=/work/models/onnx/mnist-v1.3/mnist-v1.3.engine\n",
      "[I] onnx: /work/models/onnx/mnist-v1.3/model.onnx\n",
      "[I] saveEngine: /work/models/onnx/mnist-v1.3/mnist-v1.3.engine\n",
      "----------------------------------------------------------------\n",
      "Input filename:   /work/models/onnx/mnist-v1.3/model.onnx\n",
      "ONNX IR version:  0.0.3\n",
      "Opset version:    8\n",
      "Producer name:    CNTK\n",
      "Producer version: 2.5.1\n",
      "Domain:           ai.cntk\n",
      "Model version:    1\n",
      "Doc string:       \n",
      "----------------------------------------------------------------\n",
      "[I] [TRT] Detected 1 input and 1 output network tensors.\n",
      "[I] Engine has been successfully saved to /work/models/onnx/mnist-v1.3/mnist-v1.3.engine\n",
      "[I] name= Input3, bindingIndex=0, buffers.size()=2\n",
      "[I] name= Plus214_Output_0, bindingIndex=1, buffers.size()=2\n",
      "[I] Average over 10 runs is 0.0651264 ms (host walltime is 0.107141 ms, 99% percentile time is 0.091136).\n",
      "[I] Average over 10 runs is 0.0608256 ms (host walltime is 0.103748 ms, 99% percentile time is 0.064512).\n",
      "[I] Average over 10 runs is 0.0610304 ms (host walltime is 0.103952 ms, 99% percentile time is 0.062464).\n",
      "[I] Average over 10 runs is 0.0606208 ms (host walltime is 0.103556 ms, 99% percentile time is 0.063488).\n",
      "[I] Average over 10 runs is 0.0608256 ms (host walltime is 0.101731 ms, 99% percentile time is 0.063488).\n",
      "[I] Average over 10 runs is 0.0605184 ms (host walltime is 0.10369 ms, 99% percentile time is 0.063488).\n",
      "[I] Average over 10 runs is 0.0607232 ms (host walltime is 0.103788 ms, 99% percentile time is 0.06144).\n",
      "[I] Average over 10 runs is 0.0611328 ms (host walltime is 0.101827 ms, 99% percentile time is 0.063488).\n",
      "[I] Average over 10 runs is 0.0607232 ms (host walltime is 0.103715 ms, 99% percentile time is 0.062464).\n",
      "[I] Average over 10 runs is 0.0606208 ms (host walltime is 0.105943 ms, 99% percentile time is 0.062464).\n",
      "&&&& PASSED TensorRT.trtexec # trtexec --onnx=/work/models/onnx/mnist-v1.3/model.onnx --saveEngine=/work/models/onnx/mnist-v1.3/mnist-v1.3.engine\n"
     ]
    }
   ],
   "source": [
    "!trtexec --onnx=/work/models/onnx/mnist-v1.3/model.onnx --saveEngine=/work/models/onnx/mnist-v1.3/mnist-v1.3.engine"
   ]
  },
  {
   "cell_type": "markdown",
   "metadata": {},
   "source": [
    "## 1. Initialize infer-runtime\n",
    "\n",
    "The most important option when initializing the infer-runtime is to set the maximum number of conncurrent executions that can be executed at any given time.  This value is tunable for your application.  Lower setting reduce latency; higher-settings increase throughput.  Evaluate how your model performs using ...TODO-this-notebook..."
   ]
  },
  {
   "cell_type": "code",
   "execution_count": 2,
   "metadata": {},
   "outputs": [
    {
     "name": "stderr",
     "output_type": "stream",
     "text": [
      "WARNING: Logging before InitGoogleLogging() is written to STDERR\n",
      "I0108 18:03:07.392199  2869 inference_manager.cc:64] -- Initialzing TensorRT Resource Manager --\n",
      "I0108 18:03:07.392215  2869 inference_manager.cc:65] Maximum Execution Concurrency: 2\n",
      "I0108 18:03:07.392217  2869 inference_manager.cc:66] Maximum Copy Concurrency: 5\n"
     ]
    }
   ],
   "source": [
    "with display_output():\n",
    "    models = infer.InferenceManager(max_executions=2)"
   ]
  },
  {
   "cell_type": "markdown",
   "metadata": {},
   "source": [
    "## 2. Register a Model\n",
    "\n",
    "To register a model, simply associate a `model_name` with a path to a TensorRT engine file. The returned object is an `InferRunner` object.  Use an `InferRunner` to submit work to the backend inference queue."
   ]
  },
  {
   "cell_type": "code",
   "execution_count": null,
   "metadata": {},
   "outputs": [],
   "source": [
    "with display_output():\n",
    "    mnist = models.register_tensorrt_engine(\"mnist\", \"/work/models/onnx/mnist-v1.3/mnist-v1.3.engine\")"
   ]
  },
  {
   "cell_type": "markdown",
   "metadata": {},
   "source": [
    "## 3. Allocate Resources\n",
    "\n",
    "Before you can submit inference requests, you need to allocate some internal resources.  This should be done anytime new models are registered.  There maybe a runtime performance interruption if you update the resources while the queue is full."
   ]
  },
  {
   "cell_type": "code",
   "execution_count": 1,
   "metadata": {},
   "outputs": [
    {
     "ename": "NameError",
     "evalue": "name 'display_output' is not defined",
     "output_type": "error",
     "traceback": [
      "\u001b[0;31m---------------------------------------------------------------------------\u001b[0m",
      "\u001b[0;31mNameError\u001b[0m                                 Traceback (most recent call last)",
      "\u001b[0;32m<ipython-input-1-bd465fa5fbd4>\u001b[0m in \u001b[0;36m<module>\u001b[0;34m\u001b[0m\n\u001b[0;32m----> 1\u001b[0;31m \u001b[0;32mwith\u001b[0m \u001b[0mdisplay_output\u001b[0m\u001b[0;34m(\u001b[0m\u001b[0;34m)\u001b[0m\u001b[0;34m:\u001b[0m\u001b[0;34m\u001b[0m\u001b[0m\n\u001b[0m\u001b[1;32m      2\u001b[0m     \u001b[0mmodels\u001b[0m\u001b[0;34m.\u001b[0m\u001b[0mupdate_resources\u001b[0m\u001b[0;34m(\u001b[0m\u001b[0;34m)\u001b[0m\u001b[0;34m\u001b[0m\u001b[0m\n",
      "\u001b[0;31mNameError\u001b[0m: name 'display_output' is not defined"
     ]
    }
   ],
   "source": [
    "with display_output():\n",
    "    models.update_resources()"
   ]
  },
  {
   "cell_type": "markdown",
   "metadata": {},
   "source": [
    "## 4. Inspect Model\n",
    "\n",
    "Query the `InferenceRunner` to see what it expects for inputs and what it will return for outputs."
   ]
  },
  {
   "cell_type": "code",
   "execution_count": 5,
   "metadata": {},
   "outputs": [
    {
     "data": {
      "text/plain": [
       "{'Input3': {'dtype': dtype('float32'), 'shape': [1, 28, 28]}}"
      ]
     },
     "execution_count": 5,
     "metadata": {},
     "output_type": "execute_result"
    }
   ],
   "source": [
    "mnist.input_bindings()"
   ]
  },
  {
   "cell_type": "code",
   "execution_count": 6,
   "metadata": {},
   "outputs": [
    {
     "data": {
      "text/plain": [
       "{'Plus214_Output_0': {'dtype': dtype('float32'), 'shape': [10]}}"
      ]
     },
     "execution_count": 6,
     "metadata": {},
     "output_type": "execute_result"
    }
   ],
   "source": [
    "mnist.output_bindings()"
   ]
  },
  {
   "cell_type": "markdown",
   "metadata": {},
   "source": [
    "## 5. Submit Infer Requests\n",
    "\n",
    "`InferenceRunner.infer` accecpts a dict of numpy arrays that match the input description, submits this inference request to the backend compute engine and returns a future to a dict of numpy arrays.  \n",
    "\n",
    "That means, this method should returns almost immediately; however, that does not mean the inference is complete.  Use `get()` to wait for the result.  This is a blocking call."
   ]
  },
  {
   "cell_type": "code",
   "execution_count": 7,
   "metadata": {},
   "outputs": [
    {
     "data": {
      "text/plain": [
       "<infer.InferFuture at 0x7f9fb1344110>"
      ]
     },
     "execution_count": 7,
     "metadata": {},
     "output_type": "execute_result"
    }
   ],
   "source": [
    "result = mnist.infer(Input3=np.random.random_sample([1,28,28]))\n",
    "result # result is a future"
   ]
  },
  {
   "cell_type": "code",
   "execution_count": 8,
   "metadata": {},
   "outputs": [
    {
     "data": {
      "text/plain": [
       "{'Plus214_Output_0': array([-0.0429085 , -0.30849236, -1.1172674 ,  0.18745418,  0.26956522,\n",
       "         0.8740529 ,  0.04995521, -1.3036187 ,  1.2071588 ,  0.03463553],\n",
       "       dtype=float32)}"
      ]
     },
     "execution_count": 8,
     "metadata": {},
     "output_type": "execute_result"
    }
   ],
   "source": [
    "result = result.get()\n",
    "result # result is the value of the future - dict of np arrays"
   ]
  },
  {
   "cell_type": "code",
   "execution_count": 9,
   "metadata": {},
   "outputs": [
    {
     "name": "stdout",
     "output_type": "stream",
     "text": [
      "Queue Time: 0.00014897999999963218\n",
      "Compute Time: 0.00037888700000010544\n"
     ]
    },
    {
     "name": "stderr",
     "output_type": "stream",
     "text": [
      "I0106 09:35:36.705937 16428 infer_runner.h:97] Execute Finished\n"
     ]
    }
   ],
   "source": [
    "with display_output():\n",
    "    start = time.process_time()\n",
    "    result = mnist.infer(**{k: np.random.random_sample(v['shape']) for k,v in mnist.input_bindings().items()})\n",
    "    print(\"Queue Time: {}\".format(time.process_time() - start))\n",
    "    result = result.get()\n",
    "    print(\"Compute Time: {}\".format(time.process_time() - start))"
   ]
  },
  {
   "cell_type": "markdown",
   "metadata": {},
   "source": [
    "## 6. Test for Correctness\n",
    "\n",
    "Load test image and results.  [Thanks to the ONNX Model Zoo](https://github.com/onnx/models/tree/master/mnist) for this example."
   ]
  },
  {
   "cell_type": "code",
   "execution_count": 11,
   "metadata": {},
   "outputs": [],
   "source": [
    "inputs = utils.load_inputs(\"/work/models/onnx/mnist-v1.3/test_data_set_0\")\n",
    "expected = utils.load_outputs(\"/work/models/onnx/mnist-v1.3/test_data_set_0\")"
   ]
  },
  {
   "cell_type": "code",
   "execution_count": 12,
   "metadata": {},
   "outputs": [
    {
     "data": {
      "image/png": "[encoded data removed]",
      "text/plain": [
       "<Figure size 432x288 with 1 Axes>"
      ]
     },
     "metadata": {
      "needs_background": "light"
     },
     "output_type": "display_data"
    },
    {
     "data": {
      "text/plain": [
       "array([[  975.6701  ,  -618.72394 ,  6574.5684  ,   668.02893 ,\n",
       "         -917.27094 , -1671.6359  , -1952.7599  ,   -61.549873,\n",
       "         -777.17664 , -1439.5316  ]], dtype=float32)"
      ]
     },
     "execution_count": 12,
     "metadata": {},
     "output_type": "execute_result"
    }
   ],
   "source": [
    "utils.mnist_image(inputs[0]).show()\n",
    "expected[0]"
   ]
  },
  {
   "cell_type": "markdown",
   "metadata": {},
   "source": [
    "\n",
    "Submit the images to the inference queue, then wait for each result to be returned."
   ]
  },
  {
   "cell_type": "code",
   "execution_count": 13,
   "metadata": {},
   "outputs": [],
   "source": [
    "results = [mnist.infer(Input3=input) for input in inputs]\n",
    "results = [r.get() for r in results]"
   ]
  },
  {
   "cell_type": "markdown",
   "metadata": {},
   "source": [
    "Check results.\n",
    "TODO - update the utils to return dictionaries instead of arrays"
   ]
  },
  {
   "cell_type": "code",
   "execution_count": 14,
   "metadata": {},
   "outputs": [
    {
     "name": "stdout",
     "output_type": "stream",
     "text": [
      "Output Binding Name: Plus214_Output_0; shape: (10,)\n",
      "Result: 2\n"
     ]
    }
   ],
   "source": [
    "for r, e in zip(results, expected):\n",
    "    for key, val in r.items():\n",
    "        r = val.reshape((1,10))\n",
    "        np.testing.assert_almost_equal(r, e, decimal=3)\n",
    "        print(\"Output Binding Name: {}; shape: {}\".format(key, val.shape))\n",
    "        print(\"Result: {}\".format(np.argmax(utils.softmax(r))))\n",
    "        # r # show the raw tensor"
   ]
  },
  {
   "cell_type": "code",
   "execution_count": null,
   "metadata": {},
   "outputs": [],
   "source": []
  }
 ],
 "metadata": {
  "kernelspec": {
   "display_name": "Python 3",
   "language": "python",
   "name": "python3"
  },
  "language_info": {
   "codemirror_mode": {
    "name": "ipython",
    "version": 3
   },
   "file_extension": ".py",
   "mimetype": "text/x-python",
   "name": "python",
   "nbconvert_exporter": "python",
   "pygments_lexer": "ipython3",
   "version": "3.5.2"
  }
 },
 "nbformat": 4,
 "nbformat_minor": 2
}
